{
 "cells": [
  {
   "cell_type": "code",
   "execution_count": 3,
   "metadata": {},
   "outputs": [],
   "source": [
    "from pyspark.sql import SparkSession\n",
    "import numpy as np\n",
    "\n",
    "def cholesky_decomposition(A):\n",
    "    \"\"\"\n",
    "    Performs Cholesky Decomposition on a given matrix A.\n",
    "    A must be a symmetric positive-definite matrix.\n",
    "    Returns the lower triangular matrix L such that A = L * L^T.\n",
    "    \"\"\"\n",
    "    n = A.shape[0]\n",
    "    L = np.zeros_like(A)\n",
    "\n",
    "    for i in range(n):\n",
    "        for j in range(i + 1):\n",
    "            if i == j:\n",
    "                L[i, j] = np.sqrt(A[i, i] - np.sum(L[i, :j] ** 2))\n",
    "            else:\n",
    "                L[i, j] = (A[i, j] - np.sum(L[i, :j] * L[j, :j])) / L[j, j]\n",
    "    return L"
   ]
  },
  {
   "cell_type": "code",
   "execution_count": 4,
   "metadata": {},
   "outputs": [
    {
     "name": "stderr",
     "output_type": "stream",
     "text": [
      "                                                                                \r"
     ]
    },
    {
     "name": "stdout",
     "output_type": "stream",
     "text": [
      "Matrix 1:\n",
      "[[  5   0]\n",
      " [-10   1]]\n",
      "\n",
      "Matrix 2:\n",
      "[[ 5  0  0]\n",
      " [ 3  3  0]\n",
      " [-1  1  3]]\n",
      "\n",
      "Matrix 3:\n",
      "[[ 2  0  0  0  0  0]\n",
      " [-1  2  0  0  0  0]\n",
      " [-1  0  1  0  0  0]\n",
      " [ 0  0 -1  2  0  0]\n",
      " [ 0  0  0  0  2  0]\n",
      " [ 0  0  0 -1  0  2]]\n",
      "\n"
     ]
    }
   ],
   "source": [
    "# Initialize Spark Session\n",
    "spark = SparkSession.builder.master(\"local[8]\") \\\n",
    "                    .appName(\"Cholesky Decomposition\") \\\n",
    "                    .config(\"spark.executor.memory\", \"6g\") \\\n",
    "                    .config(\"spark.executor.cores\", \"8\") \\\n",
    "                    .getOrCreate()\n",
    "\n",
    "# Example matrices\n",
    "matrices = [\n",
    "    np.array([[25, -50], [-50, 101]]),\n",
    "    np.array([[25, 15, -5], [15, 18, 0], [-5, 0, 11]]),\n",
    "    np.array([[7, -2, -3, 0, -1, 0], [-2, 8, 0, 0, -1, 0], [-3, 0, 4, -1, 0, 0], [0, 0, -1, 5, 0, -2], [-1, -1, 0, 0, 4, 0], [0, 0, 0, -2, 0, 6]])\n",
    "]\n",
    "\n",
    "# Convert to RDD\n",
    "rdd = spark.sparkContext.parallelize(matrices)\n",
    "\n",
    "# Apply Cholesky Decomposition\n",
    "result_rdd = rdd.map(lambda mat: cholesky_decomposition(mat))\n",
    "\n",
    "# Collect results\n",
    "results = result_rdd.collect()\n",
    "\n",
    "# Print results\n",
    "for idx, res in enumerate(results):\n",
    "    print(f\"Matrix {idx + 1}:\\n{res}\\n\")\n",
    "\n",
    "spark.stop()"
   ]
  }
 ],
 "metadata": {
  "kernelspec": {
   "display_name": ".venv",
   "language": "python",
   "name": "python3"
  },
  "language_info": {
   "codemirror_mode": {
    "name": "ipython",
    "version": 3
   },
   "file_extension": ".py",
   "mimetype": "text/x-python",
   "name": "python",
   "nbconvert_exporter": "python",
   "pygments_lexer": "ipython3",
   "version": "3.10.12"
  }
 },
 "nbformat": 4,
 "nbformat_minor": 2
}
