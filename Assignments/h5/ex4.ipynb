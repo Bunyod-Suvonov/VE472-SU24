{
  "cells": [
    {
      "cell_type": "markdown",
      "source": [
        "1. PCA decreases the dimensions of data, or in other words, projects data to fewer dimensions, which allows to see the relation and identify possible patterns between data."
      ],
      "metadata": {
        "id": "GFMlfWHxh79M"
      }
    },
    {
      "cell_type": "code",
      "execution_count": 32,
      "metadata": {
        "id": "HSsK15wSOWH_"
      },
      "outputs": [],
      "source": [
        "import pandas as pd\n",
        "from sklearn.decomposition import PCA\n",
        "import numpy as np"
      ]
    },
    {
      "cell_type": "markdown",
      "source": [
        "2. Number of columns of sensors1.csv needed to explain 90% of the data"
      ],
      "metadata": {
        "id": "N62MY9dYh_Sr"
      }
    },
    {
      "cell_type": "code",
      "execution_count": 34,
      "metadata": {
        "id": "74Gpf_gkIjHH",
        "colab": {
          "base_uri": "https://localhost:8080/"
        },
        "outputId": "f050e581-7beb-4c92-b13b-83779c104ebb"
      },
      "outputs": [
        {
          "output_type": "stream",
          "name": "stdout",
          "text": [
            "Number of components needed: 3\n"
          ]
        }
      ],
      "source": [
        "sensors1 = pd.read_csv('sensors1.csv')\n",
        "sensors1 = sensors1.fillna(sensors1.mean())\n",
        "\n",
        "pca = PCA()\n",
        "pca.fit(sensors1)\n",
        "\n",
        "explained_variance = np.cumsum(pca.explained_variance_ratio_)\n",
        "\n",
        "n_components = np.argmax(explained_variance >= 0.90) + 1\n",
        "print(f'Number of components needed: {n_components}')"
      ]
    },
    {
      "cell_type": "markdown",
      "source": [
        "3. Constructing the linear model"
      ],
      "metadata": {
        "id": "EL0_a6p2iY-c"
      }
    },
    {
      "cell_type": "code",
      "source": [
        "y = sensors1.iloc[:, -1]\n",
        "X = sensors1.iloc[:, :-1]\n",
        "\n",
        "pca_n = PCA(n_components=n_components)\n",
        "principal_components = pca_n.fit_transform(X)\n",
        "pc_df = pd.DataFrame(principal_components)\n",
        "\n",
        "model = LinearRegression()\n",
        "model.fit(pc_df, y)\n",
        "\n",
        "y_pred = model.predict(pc_df)\n",
        "r2 = r2_score(y, y_pred)\n",
        "\n",
        "print('Intercept:', model.intercept_)\n",
        "print('Coefficients:', model.coef_)\n",
        "print('R²:', r2)"
      ],
      "metadata": {
        "colab": {
          "base_uri": "https://localhost:8080/"
        },
        "id": "BqgiiTwQhk3f",
        "outputId": "f058db2d-f723-4f10-e5d0-e6e3b02ed261"
      },
      "execution_count": 35,
      "outputs": [
        {
          "output_type": "stream",
          "name": "stdout",
          "text": [
            "Intercept: 761.0570353035304\n",
            "Coefficients: [ 0.6253928   0.28164343 -0.3615673 ]\n",
            "R²: 0.9960376968428102\n"
          ]
        }
      ]
    },
    {
      "cell_type": "markdown",
      "source": [
        "4. Help Krystor determine whether sensors2.csv also contains the output of the sensors in the electric circuit of Reapor Rich’s new cinema."
      ],
      "metadata": {
        "id": "mI5B29lEjnph"
      }
    },
    {
      "cell_type": "code",
      "source": [
        "common_columns = sensors1.columns.intersection(sensors2.columns)\n",
        "sensors1 = sensors1[common_columns]\n",
        "sensors2 = sensors2[common_columns]\n",
        "\n",
        "# Preprocess the data: handle missing values\n",
        "sensors1 = sensors1.fillna(sensors1.mean())\n",
        "sensors2 = sensors2.fillna(sensors2.mean())\n",
        "\n",
        "# Standardize the data separately\n",
        "scaler1 = StandardScaler()\n",
        "scaler2 = StandardScaler()\n",
        "sensors1_scaled = scaler1.fit_transform(sensors1)\n",
        "sensors2_scaled = scaler2.fit_transform(sensors2)\n",
        "\n",
        "# Perform PCA on both datasets independently\n",
        "pca1 = PCA()\n",
        "pca2 = PCA()\n",
        "sensors1_pca = pca1.fit_transform(sensors1_scaled)\n",
        "sensors2_pca = pca2.fit_transform(sensors2_scaled)\n",
        "\n",
        "# Get the explained variance ratio for the first few components\n",
        "explained_variance_ratio1 = pca1.explained_variance_ratio_\n",
        "explained_variance_ratio2 = pca2.explained_variance_ratio_\n",
        "\n",
        "# Calculate the correlation of explained variance ratios\n",
        "min_components = min(len(explained_variance_ratio1), len(explained_variance_ratio2))\n",
        "correlation = np.corrcoef(explained_variance_ratio1[:min_components], explained_variance_ratio2[:min_components])[0, 1]\n",
        "\n",
        "# Output the results\n",
        "results = pd.DataFrame({\n",
        "    'Component': range(1, min_components + 1),\n",
        "    'Explained Variance Ratio (Sensors1)': explained_variance_ratio1[:min_components],\n",
        "    'Explained Variance Ratio (Sensors2)': explained_variance_ratio2[:min_components],\n",
        "    'Correlation': [correlation] * min_components\n",
        "})\n",
        "\n",
        "print(results)"
      ],
      "metadata": {
        "colab": {
          "base_uri": "https://localhost:8080/"
        },
        "id": "fiGuUkb_hk1A",
        "outputId": "6115d3db-bfd8-4606-fb3e-0a50fd2229a7"
      },
      "execution_count": 36,
      "outputs": [
        {
          "output_type": "stream",
          "name": "stdout",
          "text": [
            "    Component  Explained Variance Ratio (Sensors1)  \\\n",
            "0           1                             0.582098   \n",
            "1           2                             0.261367   \n",
            "2           3                             0.146835   \n",
            "3           4                             0.002251   \n",
            "4           5                             0.001864   \n",
            "5           6                             0.001279   \n",
            "6           7                             0.000965   \n",
            "7           8                             0.000846   \n",
            "8           9                             0.000712   \n",
            "9          10                             0.000563   \n",
            "10         11                             0.000487   \n",
            "11         12                             0.000414   \n",
            "12         13                             0.000318   \n",
            "\n",
            "    Explained Variance Ratio (Sensors2)  Correlation  \n",
            "0                              0.581767     0.997839  \n",
            "1                              0.288673     0.997839  \n",
            "2                              0.118173     0.997839  \n",
            "3                              0.004047     0.997839  \n",
            "4                              0.002012     0.997839  \n",
            "5                              0.001833     0.997839  \n",
            "6                              0.000873     0.997839  \n",
            "7                              0.000728     0.997839  \n",
            "8                              0.000617     0.997839  \n",
            "9                              0.000467     0.997839  \n",
            "10                             0.000396     0.997839  \n",
            "11                             0.000235     0.997839  \n",
            "12                             0.000178     0.997839  \n"
          ]
        }
      ]
    },
    {
      "cell_type": "markdown",
      "source": [
        "There is a high correlation, so sensors2 high likely contains the output of the sensors in the electric circuit of Reapor Rich’s new cinema."
      ],
      "metadata": {
        "id": "M_Kt-r_Uj3Wo"
      }
    }
  ],
  "metadata": {
    "colab": {
      "provenance": []
    },
    "kernelspec": {
      "display_name": "Python 3",
      "name": "python3"
    },
    "language_info": {
      "name": "python"
    }
  },
  "nbformat": 4,
  "nbformat_minor": 0
}